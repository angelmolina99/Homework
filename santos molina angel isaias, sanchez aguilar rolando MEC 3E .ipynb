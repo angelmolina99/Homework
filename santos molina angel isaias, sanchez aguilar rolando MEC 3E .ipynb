{
 "cells": [
  {
   "cell_type": "markdown",
   "metadata": {},
   "source": [
    "## Trimmed Mean"
   ]
  },
  {
   "cell_type": "code",
   "execution_count": 4,
   "metadata": {},
   "outputs": [
    {
     "name": "stdout",
     "output_type": "stream",
     "text": [
      "cuantos numeros desea introducir? 5\n",
      "Introduce un numero: 5\n",
      "Introduce un numero: 3\n",
      "Introduce un numero: 7\n",
      "Introduce un numero: 8\n",
      "Introduce un numero: 4\n",
      "Escriba el porcentaje que desee : 20\n",
      "el numero que se va a remover es: 1\n",
      "de acuerdo al numero, el orden de la lista es: [3, 4, 5, 7, 8]\n",
      "la lista sin el porcentaje es : [4, 5, 7]\n",
      "5.333333333333333\n"
     ]
    }
   ],
   "source": [
    "a1=0\n",
    "values = int(input(\"cuantos numeros desea introducir? \"))\n",
    "ages = []\n",
    "total = 0\n",
    "for i in range(0,values):\n",
    "    x = int(input(\"Introduce un numero: \"))\n",
    "    ages.append(x)\n",
    "trimmed = int(input(\"Escriba el porcentaje que desee : \"))\n",
    "trimmeds = trimmed * .01 \n",
    "percent= round(values * trimmeds)\n",
    "\n",
    "if percent <= 0.5:\n",
    "    percent = 0\n",
    "elif percent > 0.5:\n",
    "    percent = round(percent)\n",
    "print (\"el numero que se va a remover es:\", percent)\n",
    "\n",
    "org = sorted(ages)\n",
    "print(\"de acuerdo al numero, el orden de la lista es:\",org)\n",
    "\n",
    "net = org[percent:values - percent]\n",
    "print(\"la lista sin el porcentaje es :\",net)\n",
    "\n",
    "suma = sum(net)\n",
    "\n",
    "conte = len(net)\n",
    "\n",
    "sample = float(suma/conte)\n",
    "\n",
    "print(sample)\n",
    " "
   ]
  },
  {
   "cell_type": "markdown",
   "metadata": {},
   "source": []
  },
  {
   "cell_type": "code",
   "execution_count": null,
   "metadata": {},
   "outputs": [],
   "source": []
  }
 ],
 "metadata": {
  "kernelspec": {
   "display_name": "Python 3",
   "language": "python",
   "name": "python3"
  },
  "language_info": {
   "codemirror_mode": {
    "name": "ipython",
    "version": 3
   },
   "file_extension": ".py",
   "mimetype": "text/x-python",
   "name": "python",
   "nbconvert_exporter": "python",
   "pygments_lexer": "ipython3",
   "version": "3.7.4"
  }
 },
 "nbformat": 4,
 "nbformat_minor": 2
}
