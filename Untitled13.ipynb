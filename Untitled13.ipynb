{
 "cells": [
  {
   "cell_type": "markdown",
   "metadata": {},
   "source": [
    "## Homework"
   ]
  },
  {
   "cell_type": "code",
   "execution_count": null,
   "metadata": {},
   "outputs": [],
   "source": [
    "from collections import Counter\n",
    "import math\n",
    "\n",
    "v1 = float(input(\"> Cuantos datos desea introducir ?\"))\n",
    "l1 = []\n",
    "v10 = 0\n",
    "v11 = v1\n",
    "vv1 = v1\n",
    "c1 = 1\n",
    "l3 = 0\n",
    "n1 = 0\n",
    "a1 = 1\n",
    "d = 0\n",
    "\n",
    "while v1 >= 1:\n",
    "\n",
    "    print(\"> Introduzca datos: \" ,c1)\n",
    "    l2 = float(input())\n",
    "    l1.append(l2)\n",
    "    c1 = c1 + 1 ## Enter the data\n",
    "    v1 = v1 - 1 ## Ciclo\n",
    "    l3 = l3 + l1[v10] ## Sumatoria\n",
    "    v10 = v10 + 1 ## Suma de Sumatoria\n",
    "\n",
    "p1 = l3 / vv1 ## Promedio\n",
    "\n",
    "while v11 >= 1:\n",
    "    n1 = n1 + (l1[a1-1] - p1) ** 2\n",
    "    v11 = v11 - 1\n",
    "    a1 = a1 + 1\n",
    "\n",
    "m1 = n1 / vv1\n",
    "m11 = math.sqrt(m1)\n",
    "g1=Counter(l1).most_common()[0][0]\n",
    "\n",
    "\n",
    "print(\"> Escoja entre promedio (1), Moda (2) O desviacion estandar (3): \")\n",
    "while d == 0:\n",
    "    o = float(input(\"> \"))\n",
    "    if o == 1:\n",
    "        print(\"> El promedio es: \" , p1)\n",
    "        d = 1\n",
    "    elif o == 2:\n",
    "        print(\"> La moda es: \" , g1)\n",
    "        d = 1\n",
    "    elif o == 3:\n",
    "        print(\"> La desviacion estandar es: \" , m11)\n",
    "        d = 1\n",
    "    else:\n",
    "        print(\"> Introduciste un valor incorrecto, por favor, intente de nuevo \")\n",
    "        d = 0\n"
   ]
  },
  {
   "cell_type": "markdown",
   "metadata": {},
   "source": []
  },
  {
   "cell_type": "code",
   "execution_count": null,
   "metadata": {},
   "outputs": [],
   "source": []
  },
  {
   "cell_type": "code",
   "execution_count": null,
   "metadata": {},
   "outputs": [],
   "source": []
  }
 ],
 "metadata": {
  "kernelspec": {
   "display_name": "Python 3",
   "language": "python",
   "name": "python3"
  },
  "language_info": {
   "codemirror_mode": {
    "name": "ipython",
    "version": 3
   },
   "file_extension": ".py",
   "mimetype": "text/x-python",
   "name": "python",
   "nbconvert_exporter": "python",
   "pygments_lexer": "ipython3",
   "version": "3.7.4"
  }
 },
 "nbformat": 4,
 "nbformat_minor": 2
}
